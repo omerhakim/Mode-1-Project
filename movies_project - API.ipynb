{
 "cells": [
  {
   "cell_type": "code",
   "execution_count": 263,
   "metadata": {},
   "outputs": [],
   "source": [
    "\n",
    "import requests # to make TMDB API calls\n",
    "import json\n",
    "from config import api_key #in order for personal API to not be exposed\n",
    "import pandas as pd\n",
    "import matplotlib\n",
    "import matplotlib.pyplot as plt\n"
   ]
  },
  {
   "cell_type": "code",
   "execution_count": 265,
   "metadata": {},
   "outputs": [],
   "source": [
    "# Import sqlite3, then create the SQL database/connect to it (creating the database connection will create a DB)\n",
    "import sqlite3\n",
    "\n",
    "conn = sqlite3.connect('movies_table1.db') # connecting to new created data base\n",
    "\n",
    "c = conn.cursor() #Used c vs. cursor for shorthand\n"
   ]
  },
  {
   "cell_type": "code",
   "execution_count": 266,
   "metadata": {},
   "outputs": [],
   "source": [
    "#writing the basic function for creating the columns of our sqlite data base\n",
    "create_query = \"\"\"CREATE TABLE IF NOT EXISTS movies_table1\n",
    "        (id INTEGER ,title TEXT, popularity INTEGER, release_date TEXT,vote_average REAL, vote_count INTEGER)\"\"\"\n",
    "\n",
    "def create_table(query):\n",
    "    c.execute(query)\n",
    "    \n",
    "create_table(create_query)"
   ]
  },
  {
   "cell_type": "code",
   "execution_count": 267,
   "metadata": {},
   "outputs": [],
   "source": [
    "#creating the basic function in otrder to insert data to our sqlite data base\n",
    "def insert_query(query):\n",
    "    \n",
    "        for j in range(len(query)): \n",
    "            c.execute(\"INSERT INTO movies_table1 (id,title,popularity,release_date,vote_average,vote_count) VALUES (?,?,?,?,?,?)\",\n",
    "                  (query[j]['id'],query[j]['title'],query[j]['popularity'],query[j]['release_date'],query[j]['vote_average'],query[j]['vote_count']))\n"
   ]
  },
  {
   "cell_type": "code",
   "execution_count": 297,
   "metadata": {},
   "outputs": [],
   "source": [
    "#creating the loop that approacing the API of the movie data base\n",
    "\n",
    "def creating_list_for_db(first_page,last_page):\n",
    "    \n",
    "    #make sure the input is correct. the API can give us 20 results in each round and we know the data base has 353 pages\n",
    "    if type(first_page) != int or first_page <1 or first_page>354:\n",
    "        return \"Error in first page input\"\n",
    "    elif type(last_page) != int or last_page <2 or last_page>354:\n",
    "        return \"Error in last page input\"\n",
    "    else:\n",
    "    \n",
    "        try:\n",
    "            counter=0 #we created a counter, that in case the loop is broken we know in which point to continue\n",
    "            for i in range(first_page,last_page+1):\n",
    "                response = requests.get('https://api.themoviedb.org/3/movie/top_rated?api_key='+ api_key+'&language=en-US&page='+str(i))\n",
    "                \n",
    "                if response.status_code != 200: \n",
    "                    print(response.status_code) #if there was a problem with the connection to the API we would like to know the reason\n",
    "                    print (counter) \n",
    "                    \n",
    "                else:\n",
    "                data= response.json()\n",
    "                results = data['results'] # we are interest only in the result part from the data base\n",
    "                insert_query(results)  # we are inserting the categories from result we would like to have into our sqlite data base\n",
    "                counter +=1\n",
    "                time.sleep(5)\n",
    "            \n",
    "            \n",
    "        except (RuntimeError, TypeError, NameError,ValueError): #in case of error we would like to loop to not loose all the information\n",
    "             pass\n",
    "    \n",
    "    return \"Data base is ready!\"\n",
    "    \n",
    "\n",
    "sqldb = c.execute(\"\"\"select * from movies_table1;\"\"\").fetchall() #we are fetcing the infomation from the data base we created\n",
    "\n",
    "\n",
    "\n"
   ]
  },
  {
   "cell_type": "code",
   "execution_count": 307,
   "metadata": {},
   "outputs": [],
   "source": [
    "#we are converting our sqlite data base to pandas data frame to have better outlook of our data\n",
    "df=pd.DataFrame(sqldb)\n",
    "df.columns=['ID', 'Title', 'Popularity','Release_Date','Vote_Average','Vote_Count'] # adding titles to our Data Frame\n"
   ]
  },
  {
   "cell_type": "code",
   "execution_count": 172,
   "metadata": {},
   "outputs": [],
   "source": [
    "#we are exporting our data to csv for our future use\n",
    "df.to_csv(\"data_base_movies.csv\")\n"
   ]
  },
  {
   "cell_type": "code",
   "execution_count": 50,
   "metadata": {},
   "outputs": [],
   "source": [
    "c.close() # closing the connection\n",
    "conn.close()"
   ]
  }
 ],
 "metadata": {
  "kernelspec": {
   "display_name": "Python 3",
   "language": "python",
   "name": "python3"
  },
  "language_info": {
   "codemirror_mode": {
    "name": "ipython",
    "version": 3
   },
   "file_extension": ".py",
   "mimetype": "text/x-python",
   "name": "python",
   "nbconvert_exporter": "python",
   "pygments_lexer": "ipython3",
   "version": "3.7.1"
  }
 },
 "nbformat": 4,
 "nbformat_minor": 2
}
