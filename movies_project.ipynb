{
 "cells": [
  {
   "cell_type": "code",
   "execution_count": 16,
   "metadata": {},
   "outputs": [],
   "source": [
    "\n",
    "import requests # to make TMDB API calls\n",
    "import json\n",
    "from config import api_key\n",
    "import pandas as pd\n",
    "import matplotlib\n",
    "import matplotlib.pyplot as plt\n",
    "import time\n"
   ]
  },
  {
   "cell_type": "code",
   "execution_count": null,
   "metadata": {},
   "outputs": [],
   "source": []
  },
  {
   "cell_type": "code",
   "execution_count": 22,
   "metadata": {},
   "outputs": [],
   "source": [
    "# Import sqlite3, then create the SQL database/connect to it (creating the database connection will create a DB)\n",
    "import sqlite3\n",
    "\n",
    "conn = sqlite3.connect('movies_table1.db')\n",
    "#Your code here; create a cursor object so you can execute statement against the database.\n",
    "c = conn.cursor() #Used c vs. cursor for shorthand\n"
   ]
  },
  {
   "cell_type": "code",
   "execution_count": null,
   "metadata": {},
   "outputs": [],
   "source": []
  },
  {
   "cell_type": "code",
   "execution_count": 266,
   "metadata": {},
   "outputs": [],
   "source": [
    "create_query = \"\"\"CREATE TABLE IF NOT EXISTS movies_table1\n",
    "        (id INTEGER ,title TEXT, popularity INTEGER, release_date TEXT,vote_average REAL, vote_count INTEGER)\"\"\"\n",
    "\n",
    "def create_table(query):\n",
    "    c.execute(query)\n",
    "    \n"
   ]
  },
  {
   "cell_type": "code",
   "execution_count": null,
   "metadata": {},
   "outputs": [],
   "source": [
    "create_table(create_query)"
   ]
  },
  {
   "cell_type": "code",
   "execution_count": 267,
   "metadata": {},
   "outputs": [],
   "source": [
    "def insert_query(query):\n",
    "    \n",
    "        for j in range(len(query)): \n",
    "            c.execute(\"INSERT INTO movies_table1 (id,title,popularity,release_date,vote_average,vote_count) VALUES (?,?,?,?,?,?)\",\n",
    "                  (query[j]['id'],query[j]['title'],query[j]['popularity'],query[j]['release_date'],query[j]['vote_average'],query[j]['vote_count']))\n"
   ]
  },
  {
   "cell_type": "code",
   "execution_count": 6,
   "metadata": {},
   "outputs": [],
   "source": [
    "\n",
    "def creating_list_for_db(first_page,last_page):\n",
    "    \n",
    "    if type(first_page) != int or first_page <1 or first_page>354:\n",
    "        return \"Error in first page input\"\n",
    "    elif type(last_page) != int or last_page <2 or last_page>354:\n",
    "        return \"Error in last page input\"\n",
    "    else:\n",
    "    \n",
    "        \n",
    "        try:\n",
    "            counter=257\n",
    "            for i in range(first_page,last_page+1):\n",
    "                response = requests.get('https://api.themoviedb.org/3/movie/top_rated?api_key='+ api_key+'&language=en-US&page='+str(i))\n",
    "                print(response.status_code)\n",
    "                print (counter)\n",
    "                data= response.json()\n",
    "                results = data['results']\n",
    "                insert_query(results)\n",
    "                counter +=1\n",
    "                time.sleep(5)\n",
    "            \n",
    "            \n",
    "        except (RuntimeError, TypeError, NameError,ValueError):\n",
    "             pass\n",
    "    \n",
    "    return \"Data base is ready!\"\n",
    "    \n",
    "\n",
    "\n",
    "\n",
    "\n",
    "\n"
   ]
  },
  {
   "cell_type": "code",
   "execution_count": 15,
   "metadata": {},
   "outputs": [
    {
     "data": {
      "text/plain": [
       "[]"
      ]
     },
     "execution_count": 15,
     "metadata": {},
     "output_type": "execute_result"
    }
   ],
   "source": [
    "sqldb = c.execute(\"\"\"select * from movies_table1;\"\"\").fetchall()\n"
   ]
  },
  {
   "cell_type": "code",
   "execution_count": null,
   "metadata": {},
   "outputs": [],
   "source": [
    "c.execute(\"\"\"select title,vote_count from movies_table1 group by vote_count DESC;\"\"\").fetchall()"
   ]
  },
  {
   "cell_type": "code",
   "execution_count": 21,
   "metadata": {},
   "outputs": [],
   "source": [
    "c.close()\n",
    "conn.close()"
   ]
  },
  {
   "cell_type": "code",
   "execution_count": null,
   "metadata": {},
   "outputs": [],
   "source": []
  },
  {
   "cell_type": "code",
   "execution_count": null,
   "metadata": {},
   "outputs": [],
   "source": []
  }
 ],
 "metadata": {
  "kernelspec": {
   "display_name": "Python 3",
   "language": "python",
   "name": "python3"
  },
  "language_info": {
   "codemirror_mode": {
    "name": "ipython",
    "version": 3
   },
   "file_extension": ".py",
   "mimetype": "text/x-python",
   "name": "python",
   "nbconvert_exporter": "python",
   "pygments_lexer": "ipython3",
   "version": "3.7.1"
  }
 },
 "nbformat": 4,
 "nbformat_minor": 2
}
